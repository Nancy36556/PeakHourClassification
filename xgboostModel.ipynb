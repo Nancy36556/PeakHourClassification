{
  "cells": [
    {
      "cell_type": "code",
      "execution_count": 94,
      "metadata": {
        "id": "StOA3WGRg3jo"
      },
      "outputs": [],
      "source": [
        "import pandas as pd\n",
        "import numpy as np\n",
        "import matplotlib.pyplot as plt\n",
        "import seaborn as sns\n",
        "from sklearn.preprocessing import LabelEncoder\n"
      ]
    },
    {
      "cell_type": "code",
      "execution_count": 95,
      "metadata": {
        "colab": {
          "base_uri": "https://localhost:8080/",
          "height": 206
        },
        "id": "dWlobziprN0K",
        "outputId": "7b29e005-d2f0-40c1-f27f-4f318f0bd796"
      },
      "outputs": [
        {
          "data": {
            "text/html": [
              "<div>\n",
              "<style scoped>\n",
              "    .dataframe tbody tr th:only-of-type {\n",
              "        vertical-align: middle;\n",
              "    }\n",
              "\n",
              "    .dataframe tbody tr th {\n",
              "        vertical-align: top;\n",
              "    }\n",
              "\n",
              "    .dataframe thead th {\n",
              "        text-align: right;\n",
              "    }\n",
              "</style>\n",
              "<table border=\"1\" class=\"dataframe\">\n",
              "  <thead>\n",
              "    <tr style=\"text-align: right;\">\n",
              "      <th></th>\n",
              "      <th>stationName</th>\n",
              "      <th>day</th>\n",
              "      <th>time</th>\n",
              "      <th>season</th>\n",
              "      <th>result</th>\n",
              "    </tr>\n",
              "  </thead>\n",
              "  <tbody>\n",
              "    <tr>\n",
              "      <th>0</th>\n",
              "      <td>Tora El-Balad</td>\n",
              "      <td>Saturday</td>\n",
              "      <td>4:00 AM</td>\n",
              "      <td>Autumn</td>\n",
              "      <td>normal</td>\n",
              "    </tr>\n",
              "    <tr>\n",
              "      <th>1</th>\n",
              "      <td>Tora El-Balad</td>\n",
              "      <td>Saturday</td>\n",
              "      <td>4:00 AM</td>\n",
              "      <td>Spring</td>\n",
              "      <td>normal</td>\n",
              "    </tr>\n",
              "    <tr>\n",
              "      <th>2</th>\n",
              "      <td>Tora El-Balad</td>\n",
              "      <td>Saturday</td>\n",
              "      <td>4:00 AM</td>\n",
              "      <td>Winter</td>\n",
              "      <td>normal</td>\n",
              "    </tr>\n",
              "    <tr>\n",
              "      <th>3</th>\n",
              "      <td>Tora El-Balad</td>\n",
              "      <td>Saturday</td>\n",
              "      <td>4:00 AM</td>\n",
              "      <td>Summer</td>\n",
              "      <td>normal</td>\n",
              "    </tr>\n",
              "    <tr>\n",
              "      <th>4</th>\n",
              "      <td>Tora El-Balad</td>\n",
              "      <td>Saturday</td>\n",
              "      <td>5:00 AM</td>\n",
              "      <td>Autumn</td>\n",
              "      <td>normal</td>\n",
              "    </tr>\n",
              "  </tbody>\n",
              "</table>\n",
              "</div>"
            ],
            "text/plain": [
              "     stationName        day     time  season  result\n",
              "0  Tora El-Balad  Saturday   4:00 AM  Autumn  normal\n",
              "1  Tora El-Balad  Saturday   4:00 AM  Spring  normal\n",
              "2  Tora El-Balad  Saturday   4:00 AM  Winter  normal\n",
              "3  Tora El-Balad  Saturday   4:00 AM  Summer  normal\n",
              "4  Tora El-Balad  Saturday   5:00 AM  Autumn  normal"
            ]
          },
          "execution_count": 95,
          "metadata": {},
          "output_type": "execute_result"
        }
      ],
      "source": [
        "df=pd.read_csv('File.csv')\n",
        "df.head()"
      ]
    },
    {
      "cell_type": "code",
      "execution_count": 96,
      "metadata": {
        "colab": {
          "base_uri": "https://localhost:8080/"
        },
        "id": "6jNMYZY920ek",
        "outputId": "5670591e-9fc8-4bac-dd4e-49a3d6b1a7bc"
      },
      "outputs": [
        {
          "name": "stdout",
          "output_type": "stream",
          "text": [
            "['Tora El-Balad' 'sakanat-el-maadi' 'Maadi Metro Station'\n",
            " 'Hadayeq El-Maadi Metro Station' 'Dar-Elsalam' 'EL-zahraa' 'Mari Gerges'\n",
            " 'El-Malek El-Saleh' 'El-Sayeda Zeinab' 'Saad Zaghloul' 'Sadat'\n",
            " 'AbdEl-Nasser' 'Tura El-Asmant' 'Kozzika' 'Al-Shohadaa' 'Ghamra'\n",
            " 'El-Demerdash Station' 'Mansheyat El-Sadr' 'Kobri El-Qobba'\n",
            " 'Hammamat El Kobba' 'Saray El-Kobba' 'Hadayeq El Zeitoun'\n",
            " 'Helmeyat Alzaitoon subway station' 'El Matarya' 'Ain Shams'\n",
            " 'Ezbet El Nakhl' 'Marg Metro Station' 'New Marg Metro Station'\n",
            " 'Ahmed Orabi' 'Ain helwan' 'Helwan University' 'Wadi Hoff Metro Station'\n",
            " 'Hadayek Helwan' 'El-Maasara' 'Helwan Station' 'Ataba' 'El Monib'\n",
            " 'Sakiat Mekki' 'Omm El-Misryeen' 'Faisal Metro (Subtrain) Station '\n",
            " 'Cairo University Metro' 'El  Behoos' 'Dokki Metro Station' 'Opera'\n",
            " 'Muhammad Najeeb station' 'Rod El-Farag' 'St. Teresa'\n",
            " 'Al-Khalafawi metro station' 'El Mazallat' 'Kolleyyet El-Zeraa' 'sadat'\n",
            " 'Adly-Mansour' 'Huckstep' 'omar Ibn El-khattab' 'Qubaa' 'Hesham Barakat'\n",
            " 'EL-Nosha' 'Elshams club' 'Alf-Maskan' 'Heliopolis' 'Haroun' 'El-Ahram'\n",
            " 'Kolleyet El-Banat' 'fair-zone' 'Stadium Metro Station' 'El-abaaiya'\n",
            " 'Abdou Basha' 'El-Geish' 'El-Shqrea' 'Nasser' 'Masbero' 'Safaa-Hegazy'\n",
            " 'kitkat' 'Cairo University']\n"
          ]
        }
      ],
      "source": [
        "stationName2=df['stationName'].unique()\n",
        "print(stationName2)\n",
        "# x = np.array(stationName2)\n",
        "# y = pd.Series(x)\n",
        "# file=y.to_csv('stationName2.csv')"
      ]
    },
    {
      "cell_type": "code",
      "execution_count": 97,
      "metadata": {},
      "outputs": [
        {
          "name": "stdout",
          "output_type": "stream",
          "text": [
            "<class 'pandas.core.frame.DataFrame'>\n",
            "RangeIndex: 48032 entries, 0 to 48031\n",
            "Data columns (total 5 columns):\n",
            " #   Column       Non-Null Count  Dtype \n",
            "---  ------       --------------  ----- \n",
            " 0   stationName  48032 non-null  object\n",
            " 1   day          48032 non-null  object\n",
            " 2   time         48032 non-null  object\n",
            " 3   season       48032 non-null  object\n",
            " 4   result       48032 non-null  object\n",
            "dtypes: object(5)\n",
            "memory usage: 1.8+ MB\n"
          ]
        }
      ],
      "source": [
        "df.info()"
      ]
    },
    {
      "cell_type": "code",
      "execution_count": 98,
      "metadata": {
        "colab": {
          "base_uri": "https://localhost:8080/"
        },
        "id": "JYfQfm1KulLO",
        "outputId": "866e4f6b-7696-4dab-ab65-9e240ee12437"
      },
      "outputs": [
        {
          "data": {
            "text/plain": [
              "(48032, 5)"
            ]
          },
          "execution_count": 98,
          "metadata": {},
          "output_type": "execute_result"
        }
      ],
      "source": [
        "df.shape"
      ]
    },
    {
      "cell_type": "code",
      "execution_count": 99,
      "metadata": {
        "colab": {
          "base_uri": "https://localhost:8080/"
        },
        "id": "A2_40i7CwjaY",
        "outputId": "1783ce4a-8b76-4f96-bf12-069a00eeb49f"
      },
      "outputs": [
        {
          "data": {
            "text/plain": [
              "stationName    0\n",
              "day            0\n",
              "time           0\n",
              "season         0\n",
              "result         0\n",
              "dtype: int64"
            ]
          },
          "execution_count": 99,
          "metadata": {},
          "output_type": "execute_result"
        }
      ],
      "source": [
        "df.isnull().sum()"
      ]
    },
    {
      "cell_type": "markdown",
      "metadata": {
        "id": "Mhsy7AMEwr0D"
      },
      "source": [
        "#Data-preprocessing"
      ]
    },
    {
      "cell_type": "code",
      "execution_count": 100,
      "metadata": {
        "colab": {
          "base_uri": "https://localhost:8080/"
        },
        "id": "T1S3Eh6VzKIR",
        "outputId": "c46bc7a9-ddc7-48b1-d9b7-7b26ed9b099c"
      },
      "outputs": [
        {
          "name": "stdout",
          "output_type": "stream",
          "text": [
            "['Saturday ' 'Sunday ' 'Monday ' 'Tuesday ' 'Wednesday ' 'Thursday '\n",
            " 'Friday ']\n"
          ]
        }
      ],
      "source": [
        "day=df['day'].unique()\n",
        "print(day)\n",
        "# x = np.array(day)\n",
        "# y = pd.Series(x)\n",
        "# y.to_csv('day.csv')"
      ]
    },
    {
      "cell_type": "code",
      "execution_count": 101,
      "metadata": {
        "id": "y_MgXAl3zNch"
      },
      "outputs": [],
      "source": [
        "from sklearn.preprocessing import LabelEncoder\n",
        "encoder=LabelEncoder()\n",
        "df['day']=encoder.fit_transform(df['day'])"
      ]
    },
    {
      "cell_type": "code",
      "execution_count": 102,
      "metadata": {
        "id": "1MQ7nwVr2VSy"
      },
      "outputs": [],
      "source": [
        "encoder=LabelEncoder()\n",
        "df['stationName']=encoder.fit_transform(df['stationName'])"
      ]
    },
    {
      "cell_type": "code",
      "execution_count": 103,
      "metadata": {},
      "outputs": [],
      "source": [
        "day2=df['day'].unique()\n",
        "# x = np.array(day2)\n",
        "# y = pd.Series(x)\n",
        "# y.to_csv('day2.csv')"
      ]
    },
    {
      "cell_type": "code",
      "execution_count": 104,
      "metadata": {},
      "outputs": [
        {
          "name": "stdout",
          "output_type": "stream",
          "text": [
            "[66 73 47 34 12 15 50 24 25 59 60  0 67 46  7 31 21 48 43 35 63 33 38 17\n",
            "  4 29 49 54  3  5 40 68 32 23 39  9 19 62 55 30 11 16 13 56 52 58 64  6\n",
            " 18 45 72  2 42 71 57 41 14 28  8 37 36 20 44 69 65 27  1 22 26 53 51 61\n",
            " 70 10]\n"
          ]
        }
      ],
      "source": [
        "\n",
        "stationName=df['stationName'].unique()\n",
        "print(stationName)\n",
        "# x = np.array(stationName)\n",
        "# y = pd.Series(x)\n",
        "# y.append(file)\n"
      ]
    },
    {
      "cell_type": "code",
      "execution_count": 105,
      "metadata": {},
      "outputs": [
        {
          "data": {
            "text/html": [
              "<div>\n",
              "<style scoped>\n",
              "    .dataframe tbody tr th:only-of-type {\n",
              "        vertical-align: middle;\n",
              "    }\n",
              "\n",
              "    .dataframe tbody tr th {\n",
              "        vertical-align: top;\n",
              "    }\n",
              "\n",
              "    .dataframe thead th {\n",
              "        text-align: right;\n",
              "    }\n",
              "</style>\n",
              "<table border=\"1\" class=\"dataframe\">\n",
              "  <thead>\n",
              "    <tr style=\"text-align: right;\">\n",
              "      <th></th>\n",
              "      <th>stationName</th>\n",
              "      <th>day</th>\n",
              "      <th>time</th>\n",
              "      <th>season</th>\n",
              "      <th>result</th>\n",
              "      <th>hour</th>\n",
              "    </tr>\n",
              "  </thead>\n",
              "  <tbody>\n",
              "    <tr>\n",
              "      <th>0</th>\n",
              "      <td>66</td>\n",
              "      <td>2</td>\n",
              "      <td>2023-05-04 04:00:00</td>\n",
              "      <td>Autumn</td>\n",
              "      <td>normal</td>\n",
              "      <td>4</td>\n",
              "    </tr>\n",
              "    <tr>\n",
              "      <th>1</th>\n",
              "      <td>66</td>\n",
              "      <td>2</td>\n",
              "      <td>2023-05-04 04:00:00</td>\n",
              "      <td>Spring</td>\n",
              "      <td>normal</td>\n",
              "      <td>4</td>\n",
              "    </tr>\n",
              "    <tr>\n",
              "      <th>2</th>\n",
              "      <td>66</td>\n",
              "      <td>2</td>\n",
              "      <td>2023-05-04 04:00:00</td>\n",
              "      <td>Winter</td>\n",
              "      <td>normal</td>\n",
              "      <td>4</td>\n",
              "    </tr>\n",
              "    <tr>\n",
              "      <th>3</th>\n",
              "      <td>66</td>\n",
              "      <td>2</td>\n",
              "      <td>2023-05-04 04:00:00</td>\n",
              "      <td>Summer</td>\n",
              "      <td>normal</td>\n",
              "      <td>4</td>\n",
              "    </tr>\n",
              "    <tr>\n",
              "      <th>4</th>\n",
              "      <td>66</td>\n",
              "      <td>2</td>\n",
              "      <td>2023-05-04 05:00:00</td>\n",
              "      <td>Autumn</td>\n",
              "      <td>normal</td>\n",
              "      <td>5</td>\n",
              "    </tr>\n",
              "    <tr>\n",
              "      <th>5</th>\n",
              "      <td>66</td>\n",
              "      <td>2</td>\n",
              "      <td>2023-05-04 05:00:00</td>\n",
              "      <td>Spring</td>\n",
              "      <td>normal</td>\n",
              "      <td>5</td>\n",
              "    </tr>\n",
              "    <tr>\n",
              "      <th>6</th>\n",
              "      <td>66</td>\n",
              "      <td>2</td>\n",
              "      <td>2023-05-04 05:00:00</td>\n",
              "      <td>Winter</td>\n",
              "      <td>normal</td>\n",
              "      <td>5</td>\n",
              "    </tr>\n",
              "    <tr>\n",
              "      <th>7</th>\n",
              "      <td>66</td>\n",
              "      <td>2</td>\n",
              "      <td>2023-05-04 05:00:00</td>\n",
              "      <td>Summer</td>\n",
              "      <td>normal</td>\n",
              "      <td>5</td>\n",
              "    </tr>\n",
              "    <tr>\n",
              "      <th>8</th>\n",
              "      <td>66</td>\n",
              "      <td>2</td>\n",
              "      <td>2023-05-04 06:00:00</td>\n",
              "      <td>Autumn</td>\n",
              "      <td>normal</td>\n",
              "      <td>6</td>\n",
              "    </tr>\n",
              "    <tr>\n",
              "      <th>9</th>\n",
              "      <td>66</td>\n",
              "      <td>2</td>\n",
              "      <td>2023-05-04 06:00:00</td>\n",
              "      <td>Spring</td>\n",
              "      <td>normal</td>\n",
              "      <td>6</td>\n",
              "    </tr>\n",
              "    <tr>\n",
              "      <th>10</th>\n",
              "      <td>66</td>\n",
              "      <td>2</td>\n",
              "      <td>2023-05-04 06:00:00</td>\n",
              "      <td>Winter</td>\n",
              "      <td>busy</td>\n",
              "      <td>6</td>\n",
              "    </tr>\n",
              "    <tr>\n",
              "      <th>11</th>\n",
              "      <td>66</td>\n",
              "      <td>2</td>\n",
              "      <td>2023-05-04 06:00:00</td>\n",
              "      <td>Summer</td>\n",
              "      <td>busy</td>\n",
              "      <td>6</td>\n",
              "    </tr>\n",
              "    <tr>\n",
              "      <th>12</th>\n",
              "      <td>66</td>\n",
              "      <td>2</td>\n",
              "      <td>2023-05-04 07:00:00</td>\n",
              "      <td>Autumn</td>\n",
              "      <td>busy</td>\n",
              "      <td>7</td>\n",
              "    </tr>\n",
              "    <tr>\n",
              "      <th>13</th>\n",
              "      <td>66</td>\n",
              "      <td>2</td>\n",
              "      <td>2023-05-04 07:00:00</td>\n",
              "      <td>Spring</td>\n",
              "      <td>busy</td>\n",
              "      <td>7</td>\n",
              "    </tr>\n",
              "    <tr>\n",
              "      <th>14</th>\n",
              "      <td>66</td>\n",
              "      <td>2</td>\n",
              "      <td>2023-05-04 07:00:00</td>\n",
              "      <td>Winter</td>\n",
              "      <td>very busy</td>\n",
              "      <td>7</td>\n",
              "    </tr>\n",
              "    <tr>\n",
              "      <th>15</th>\n",
              "      <td>66</td>\n",
              "      <td>2</td>\n",
              "      <td>2023-05-04 07:00:00</td>\n",
              "      <td>Summer</td>\n",
              "      <td>very busy</td>\n",
              "      <td>7</td>\n",
              "    </tr>\n",
              "    <tr>\n",
              "      <th>16</th>\n",
              "      <td>66</td>\n",
              "      <td>2</td>\n",
              "      <td>2023-05-04 08:00:00</td>\n",
              "      <td>Autumn</td>\n",
              "      <td>very busy</td>\n",
              "      <td>8</td>\n",
              "    </tr>\n",
              "    <tr>\n",
              "      <th>17</th>\n",
              "      <td>66</td>\n",
              "      <td>2</td>\n",
              "      <td>2023-05-04 08:00:00</td>\n",
              "      <td>Spring</td>\n",
              "      <td>very busy</td>\n",
              "      <td>8</td>\n",
              "    </tr>\n",
              "    <tr>\n",
              "      <th>18</th>\n",
              "      <td>66</td>\n",
              "      <td>2</td>\n",
              "      <td>2023-05-04 08:00:00</td>\n",
              "      <td>Winter</td>\n",
              "      <td>very busy</td>\n",
              "      <td>8</td>\n",
              "    </tr>\n",
              "    <tr>\n",
              "      <th>19</th>\n",
              "      <td>66</td>\n",
              "      <td>2</td>\n",
              "      <td>2023-05-04 08:00:00</td>\n",
              "      <td>Summer</td>\n",
              "      <td>very busy</td>\n",
              "      <td>8</td>\n",
              "    </tr>\n",
              "  </tbody>\n",
              "</table>\n",
              "</div>"
            ],
            "text/plain": [
              "    stationName  day                time  season     result  hour\n",
              "0            66    2 2023-05-04 04:00:00  Autumn     normal     4\n",
              "1            66    2 2023-05-04 04:00:00  Spring     normal     4\n",
              "2            66    2 2023-05-04 04:00:00  Winter     normal     4\n",
              "3            66    2 2023-05-04 04:00:00  Summer     normal     4\n",
              "4            66    2 2023-05-04 05:00:00  Autumn     normal     5\n",
              "5            66    2 2023-05-04 05:00:00  Spring     normal     5\n",
              "6            66    2 2023-05-04 05:00:00  Winter     normal     5\n",
              "7            66    2 2023-05-04 05:00:00  Summer     normal     5\n",
              "8            66    2 2023-05-04 06:00:00  Autumn     normal     6\n",
              "9            66    2 2023-05-04 06:00:00  Spring     normal     6\n",
              "10           66    2 2023-05-04 06:00:00  Winter       busy     6\n",
              "11           66    2 2023-05-04 06:00:00  Summer       busy     6\n",
              "12           66    2 2023-05-04 07:00:00  Autumn       busy     7\n",
              "13           66    2 2023-05-04 07:00:00  Spring       busy     7\n",
              "14           66    2 2023-05-04 07:00:00  Winter  very busy     7\n",
              "15           66    2 2023-05-04 07:00:00  Summer  very busy     7\n",
              "16           66    2 2023-05-04 08:00:00  Autumn  very busy     8\n",
              "17           66    2 2023-05-04 08:00:00  Spring  very busy     8\n",
              "18           66    2 2023-05-04 08:00:00  Winter  very busy     8\n",
              "19           66    2 2023-05-04 08:00:00  Summer  very busy     8"
            ]
          },
          "execution_count": 105,
          "metadata": {},
          "output_type": "execute_result"
        }
      ],
      "source": [
        "df['time'] = pd.to_datetime(df['time'])\n",
        "df['hour'] = df['time'].dt.hour\n",
        "# df['minute'] = df['time'].dt.minute\n",
        "# df['second']=df['time'].dt.second\n",
        "df.head(20)"
      ]
    },
    {
      "cell_type": "code",
      "execution_count": 106,
      "metadata": {},
      "outputs": [],
      "source": [
        "df=df.drop(axis=1,labels='time')\n"
      ]
    },
    {
      "cell_type": "code",
      "execution_count": 107,
      "metadata": {
        "id": "TL2D-PHJrrfK"
      },
      "outputs": [
        {
          "data": {
            "text/html": [
              "<div>\n",
              "<style scoped>\n",
              "    .dataframe tbody tr th:only-of-type {\n",
              "        vertical-align: middle;\n",
              "    }\n",
              "\n",
              "    .dataframe tbody tr th {\n",
              "        vertical-align: top;\n",
              "    }\n",
              "\n",
              "    .dataframe thead th {\n",
              "        text-align: right;\n",
              "    }\n",
              "</style>\n",
              "<table border=\"1\" class=\"dataframe\">\n",
              "  <thead>\n",
              "    <tr style=\"text-align: right;\">\n",
              "      <th></th>\n",
              "      <th>stationName</th>\n",
              "      <th>day</th>\n",
              "      <th>season</th>\n",
              "      <th>result</th>\n",
              "      <th>hour</th>\n",
              "    </tr>\n",
              "  </thead>\n",
              "  <tbody>\n",
              "    <tr>\n",
              "      <th>0</th>\n",
              "      <td>66</td>\n",
              "      <td>2</td>\n",
              "      <td>Autumn</td>\n",
              "      <td>0</td>\n",
              "      <td>4</td>\n",
              "    </tr>\n",
              "    <tr>\n",
              "      <th>1</th>\n",
              "      <td>66</td>\n",
              "      <td>2</td>\n",
              "      <td>Spring</td>\n",
              "      <td>0</td>\n",
              "      <td>4</td>\n",
              "    </tr>\n",
              "    <tr>\n",
              "      <th>2</th>\n",
              "      <td>66</td>\n",
              "      <td>2</td>\n",
              "      <td>Winter</td>\n",
              "      <td>0</td>\n",
              "      <td>4</td>\n",
              "    </tr>\n",
              "    <tr>\n",
              "      <th>3</th>\n",
              "      <td>66</td>\n",
              "      <td>2</td>\n",
              "      <td>Summer</td>\n",
              "      <td>0</td>\n",
              "      <td>4</td>\n",
              "    </tr>\n",
              "    <tr>\n",
              "      <th>4</th>\n",
              "      <td>66</td>\n",
              "      <td>2</td>\n",
              "      <td>Autumn</td>\n",
              "      <td>0</td>\n",
              "      <td>5</td>\n",
              "    </tr>\n",
              "    <tr>\n",
              "      <th>5</th>\n",
              "      <td>66</td>\n",
              "      <td>2</td>\n",
              "      <td>Spring</td>\n",
              "      <td>0</td>\n",
              "      <td>5</td>\n",
              "    </tr>\n",
              "    <tr>\n",
              "      <th>6</th>\n",
              "      <td>66</td>\n",
              "      <td>2</td>\n",
              "      <td>Winter</td>\n",
              "      <td>0</td>\n",
              "      <td>5</td>\n",
              "    </tr>\n",
              "    <tr>\n",
              "      <th>7</th>\n",
              "      <td>66</td>\n",
              "      <td>2</td>\n",
              "      <td>Summer</td>\n",
              "      <td>0</td>\n",
              "      <td>5</td>\n",
              "    </tr>\n",
              "    <tr>\n",
              "      <th>8</th>\n",
              "      <td>66</td>\n",
              "      <td>2</td>\n",
              "      <td>Autumn</td>\n",
              "      <td>0</td>\n",
              "      <td>6</td>\n",
              "    </tr>\n",
              "    <tr>\n",
              "      <th>9</th>\n",
              "      <td>66</td>\n",
              "      <td>2</td>\n",
              "      <td>Spring</td>\n",
              "      <td>0</td>\n",
              "      <td>6</td>\n",
              "    </tr>\n",
              "    <tr>\n",
              "      <th>10</th>\n",
              "      <td>66</td>\n",
              "      <td>2</td>\n",
              "      <td>Winter</td>\n",
              "      <td>1</td>\n",
              "      <td>6</td>\n",
              "    </tr>\n",
              "    <tr>\n",
              "      <th>11</th>\n",
              "      <td>66</td>\n",
              "      <td>2</td>\n",
              "      <td>Summer</td>\n",
              "      <td>1</td>\n",
              "      <td>6</td>\n",
              "    </tr>\n",
              "    <tr>\n",
              "      <th>12</th>\n",
              "      <td>66</td>\n",
              "      <td>2</td>\n",
              "      <td>Autumn</td>\n",
              "      <td>1</td>\n",
              "      <td>7</td>\n",
              "    </tr>\n",
              "    <tr>\n",
              "      <th>13</th>\n",
              "      <td>66</td>\n",
              "      <td>2</td>\n",
              "      <td>Spring</td>\n",
              "      <td>1</td>\n",
              "      <td>7</td>\n",
              "    </tr>\n",
              "    <tr>\n",
              "      <th>14</th>\n",
              "      <td>66</td>\n",
              "      <td>2</td>\n",
              "      <td>Winter</td>\n",
              "      <td>2</td>\n",
              "      <td>7</td>\n",
              "    </tr>\n",
              "    <tr>\n",
              "      <th>15</th>\n",
              "      <td>66</td>\n",
              "      <td>2</td>\n",
              "      <td>Summer</td>\n",
              "      <td>2</td>\n",
              "      <td>7</td>\n",
              "    </tr>\n",
              "    <tr>\n",
              "      <th>16</th>\n",
              "      <td>66</td>\n",
              "      <td>2</td>\n",
              "      <td>Autumn</td>\n",
              "      <td>2</td>\n",
              "      <td>8</td>\n",
              "    </tr>\n",
              "    <tr>\n",
              "      <th>17</th>\n",
              "      <td>66</td>\n",
              "      <td>2</td>\n",
              "      <td>Spring</td>\n",
              "      <td>2</td>\n",
              "      <td>8</td>\n",
              "    </tr>\n",
              "    <tr>\n",
              "      <th>18</th>\n",
              "      <td>66</td>\n",
              "      <td>2</td>\n",
              "      <td>Winter</td>\n",
              "      <td>2</td>\n",
              "      <td>8</td>\n",
              "    </tr>\n",
              "    <tr>\n",
              "      <th>19</th>\n",
              "      <td>66</td>\n",
              "      <td>2</td>\n",
              "      <td>Summer</td>\n",
              "      <td>2</td>\n",
              "      <td>8</td>\n",
              "    </tr>\n",
              "  </tbody>\n",
              "</table>\n",
              "</div>"
            ],
            "text/plain": [
              "    stationName  day  season  result  hour\n",
              "0            66    2  Autumn       0     4\n",
              "1            66    2  Spring       0     4\n",
              "2            66    2  Winter       0     4\n",
              "3            66    2  Summer       0     4\n",
              "4            66    2  Autumn       0     5\n",
              "5            66    2  Spring       0     5\n",
              "6            66    2  Winter       0     5\n",
              "7            66    2  Summer       0     5\n",
              "8            66    2  Autumn       0     6\n",
              "9            66    2  Spring       0     6\n",
              "10           66    2  Winter       1     6\n",
              "11           66    2  Summer       1     6\n",
              "12           66    2  Autumn       1     7\n",
              "13           66    2  Spring       1     7\n",
              "14           66    2  Winter       2     7\n",
              "15           66    2  Summer       2     7\n",
              "16           66    2  Autumn       2     8\n",
              "17           66    2  Spring       2     8\n",
              "18           66    2  Winter       2     8\n",
              "19           66    2  Summer       2     8"
            ]
          },
          "execution_count": 107,
          "metadata": {},
          "output_type": "execute_result"
        }
      ],
      "source": [
        "map_dic={'normal':0,'busy':1,'very busy':2}\n",
        "df['result']=df['result'].map(map_dic)\n",
        "df.head(20)"
      ]
    },
    {
      "cell_type": "code",
      "execution_count": 108,
      "metadata": {
        "colab": {
          "base_uri": "https://localhost:8080/"
        },
        "id": "aQWLw1Qxs2se",
        "outputId": "0b5cfd2f-aae1-4b04-d51a-fbd2bcf4c7d4"
      },
      "outputs": [
        {
          "data": {
            "text/plain": [
              "array(['Autumn', 'Spring', 'Winter', 'Summer'], dtype=object)"
            ]
          },
          "execution_count": 108,
          "metadata": {},
          "output_type": "execute_result"
        }
      ],
      "source": [
        "df['season'].unique()"
      ]
    },
    {
      "cell_type": "code",
      "execution_count": 109,
      "metadata": {
        "id": "P2QgBIiJse9V"
      },
      "outputs": [],
      "source": [
        "map_dic={'Autumn':0,'Spring':1,'Winter':2,'Summer':3}\n",
        "df['season']=df['season'].map(map_dic)"
      ]
    },
    {
      "cell_type": "code",
      "execution_count": 110,
      "metadata": {
        "colab": {
          "base_uri": "https://localhost:8080/",
          "height": 206
        },
        "id": "Z0PL3YyHzrAH",
        "outputId": "6e4c3789-363d-4f8d-e245-e0e197c746cc"
      },
      "outputs": [
        {
          "data": {
            "text/html": [
              "<div>\n",
              "<style scoped>\n",
              "    .dataframe tbody tr th:only-of-type {\n",
              "        vertical-align: middle;\n",
              "    }\n",
              "\n",
              "    .dataframe tbody tr th {\n",
              "        vertical-align: top;\n",
              "    }\n",
              "\n",
              "    .dataframe thead th {\n",
              "        text-align: right;\n",
              "    }\n",
              "</style>\n",
              "<table border=\"1\" class=\"dataframe\">\n",
              "  <thead>\n",
              "    <tr style=\"text-align: right;\">\n",
              "      <th></th>\n",
              "      <th>stationName</th>\n",
              "      <th>day</th>\n",
              "      <th>season</th>\n",
              "      <th>result</th>\n",
              "      <th>hour</th>\n",
              "    </tr>\n",
              "  </thead>\n",
              "  <tbody>\n",
              "    <tr>\n",
              "      <th>0</th>\n",
              "      <td>66</td>\n",
              "      <td>2</td>\n",
              "      <td>0</td>\n",
              "      <td>0</td>\n",
              "      <td>4</td>\n",
              "    </tr>\n",
              "    <tr>\n",
              "      <th>1</th>\n",
              "      <td>66</td>\n",
              "      <td>2</td>\n",
              "      <td>1</td>\n",
              "      <td>0</td>\n",
              "      <td>4</td>\n",
              "    </tr>\n",
              "    <tr>\n",
              "      <th>2</th>\n",
              "      <td>66</td>\n",
              "      <td>2</td>\n",
              "      <td>2</td>\n",
              "      <td>0</td>\n",
              "      <td>4</td>\n",
              "    </tr>\n",
              "    <tr>\n",
              "      <th>3</th>\n",
              "      <td>66</td>\n",
              "      <td>2</td>\n",
              "      <td>3</td>\n",
              "      <td>0</td>\n",
              "      <td>4</td>\n",
              "    </tr>\n",
              "    <tr>\n",
              "      <th>4</th>\n",
              "      <td>66</td>\n",
              "      <td>2</td>\n",
              "      <td>0</td>\n",
              "      <td>0</td>\n",
              "      <td>5</td>\n",
              "    </tr>\n",
              "    <tr>\n",
              "      <th>5</th>\n",
              "      <td>66</td>\n",
              "      <td>2</td>\n",
              "      <td>1</td>\n",
              "      <td>0</td>\n",
              "      <td>5</td>\n",
              "    </tr>\n",
              "    <tr>\n",
              "      <th>6</th>\n",
              "      <td>66</td>\n",
              "      <td>2</td>\n",
              "      <td>2</td>\n",
              "      <td>0</td>\n",
              "      <td>5</td>\n",
              "    </tr>\n",
              "    <tr>\n",
              "      <th>7</th>\n",
              "      <td>66</td>\n",
              "      <td>2</td>\n",
              "      <td>3</td>\n",
              "      <td>0</td>\n",
              "      <td>5</td>\n",
              "    </tr>\n",
              "    <tr>\n",
              "      <th>8</th>\n",
              "      <td>66</td>\n",
              "      <td>2</td>\n",
              "      <td>0</td>\n",
              "      <td>0</td>\n",
              "      <td>6</td>\n",
              "    </tr>\n",
              "    <tr>\n",
              "      <th>9</th>\n",
              "      <td>66</td>\n",
              "      <td>2</td>\n",
              "      <td>1</td>\n",
              "      <td>0</td>\n",
              "      <td>6</td>\n",
              "    </tr>\n",
              "    <tr>\n",
              "      <th>10</th>\n",
              "      <td>66</td>\n",
              "      <td>2</td>\n",
              "      <td>2</td>\n",
              "      <td>1</td>\n",
              "      <td>6</td>\n",
              "    </tr>\n",
              "    <tr>\n",
              "      <th>11</th>\n",
              "      <td>66</td>\n",
              "      <td>2</td>\n",
              "      <td>3</td>\n",
              "      <td>1</td>\n",
              "      <td>6</td>\n",
              "    </tr>\n",
              "    <tr>\n",
              "      <th>12</th>\n",
              "      <td>66</td>\n",
              "      <td>2</td>\n",
              "      <td>0</td>\n",
              "      <td>1</td>\n",
              "      <td>7</td>\n",
              "    </tr>\n",
              "    <tr>\n",
              "      <th>13</th>\n",
              "      <td>66</td>\n",
              "      <td>2</td>\n",
              "      <td>1</td>\n",
              "      <td>1</td>\n",
              "      <td>7</td>\n",
              "    </tr>\n",
              "    <tr>\n",
              "      <th>14</th>\n",
              "      <td>66</td>\n",
              "      <td>2</td>\n",
              "      <td>2</td>\n",
              "      <td>2</td>\n",
              "      <td>7</td>\n",
              "    </tr>\n",
              "    <tr>\n",
              "      <th>15</th>\n",
              "      <td>66</td>\n",
              "      <td>2</td>\n",
              "      <td>3</td>\n",
              "      <td>2</td>\n",
              "      <td>7</td>\n",
              "    </tr>\n",
              "    <tr>\n",
              "      <th>16</th>\n",
              "      <td>66</td>\n",
              "      <td>2</td>\n",
              "      <td>0</td>\n",
              "      <td>2</td>\n",
              "      <td>8</td>\n",
              "    </tr>\n",
              "    <tr>\n",
              "      <th>17</th>\n",
              "      <td>66</td>\n",
              "      <td>2</td>\n",
              "      <td>1</td>\n",
              "      <td>2</td>\n",
              "      <td>8</td>\n",
              "    </tr>\n",
              "    <tr>\n",
              "      <th>18</th>\n",
              "      <td>66</td>\n",
              "      <td>2</td>\n",
              "      <td>2</td>\n",
              "      <td>2</td>\n",
              "      <td>8</td>\n",
              "    </tr>\n",
              "    <tr>\n",
              "      <th>19</th>\n",
              "      <td>66</td>\n",
              "      <td>2</td>\n",
              "      <td>3</td>\n",
              "      <td>2</td>\n",
              "      <td>8</td>\n",
              "    </tr>\n",
              "  </tbody>\n",
              "</table>\n",
              "</div>"
            ],
            "text/plain": [
              "    stationName  day  season  result  hour\n",
              "0            66    2       0       0     4\n",
              "1            66    2       1       0     4\n",
              "2            66    2       2       0     4\n",
              "3            66    2       3       0     4\n",
              "4            66    2       0       0     5\n",
              "5            66    2       1       0     5\n",
              "6            66    2       2       0     5\n",
              "7            66    2       3       0     5\n",
              "8            66    2       0       0     6\n",
              "9            66    2       1       0     6\n",
              "10           66    2       2       1     6\n",
              "11           66    2       3       1     6\n",
              "12           66    2       0       1     7\n",
              "13           66    2       1       1     7\n",
              "14           66    2       2       2     7\n",
              "15           66    2       3       2     7\n",
              "16           66    2       0       2     8\n",
              "17           66    2       1       2     8\n",
              "18           66    2       2       2     8\n",
              "19           66    2       3       2     8"
            ]
          },
          "execution_count": 110,
          "metadata": {},
          "output_type": "execute_result"
        }
      ],
      "source": [
        "df.head(20)"
      ]
    },
    {
      "cell_type": "code",
      "execution_count": 111,
      "metadata": {},
      "outputs": [
        {
          "name": "stdout",
          "output_type": "stream",
          "text": [
            "<class 'pandas.core.frame.DataFrame'>\n",
            "RangeIndex: 48032 entries, 0 to 48031\n",
            "Data columns (total 5 columns):\n",
            " #   Column       Non-Null Count  Dtype\n",
            "---  ------       --------------  -----\n",
            " 0   stationName  48032 non-null  int32\n",
            " 1   day          48032 non-null  int32\n",
            " 2   season       48032 non-null  int64\n",
            " 3   result       48032 non-null  int64\n",
            " 4   hour         48032 non-null  int64\n",
            "dtypes: int32(2), int64(3)\n",
            "memory usage: 1.5 MB\n"
          ]
        }
      ],
      "source": [
        "df.info()"
      ]
    },
    {
      "cell_type": "code",
      "execution_count": 112,
      "metadata": {
        "colab": {
          "base_uri": "https://localhost:8080/",
          "height": 1000
        },
        "id": "OzsTwpAWCqMa",
        "outputId": "08665c45-8fc2-424b-a495-fc99607ba383"
      },
      "outputs": [
        {
          "data": {
            "text/plain": [
              "<Figure size 800x550 with 0 Axes>"
            ]
          },
          "execution_count": 112,
          "metadata": {},
          "output_type": "execute_result"
        },
        {
          "data": {
            "image/png": "[encoded data removed]",
            "text/plain": [
              "<Figure size 1500x2000 with 6 Axes>"
            ]
          },
          "metadata": {},
          "output_type": "display_data"
        },
        {
          "data": {
            "text/plain": [
              "<Figure size 800x550 with 0 Axes>"
            ]
          },
          "metadata": {},
          "output_type": "display_data"
        }
      ],
      "source": [
        "df.hist(figsize=(15,20))\n",
        "plt.figure()"
      ]
    },
    {
      "cell_type": "markdown",
      "metadata": {
        "id": "i3kyWSw7u1JH"
      },
      "source": [
        "#Outlier-detection\n"
      ]
    },
    {
      "cell_type": "markdown",
      "metadata": {
        "id": "MOeidyq7w7lE"
      },
      "source": [
        "#Correlation"
      ]
    },
    {
      "cell_type": "code",
      "execution_count": 113,
      "metadata": {
        "colab": {
          "base_uri": "https://localhost:8080/",
          "height": 1000
        },
        "id": "lXFFSogu1qbR",
        "outputId": "f83979c0-7d3c-4271-890f-96e886a192b0"
      },
      "outputs": [
        {
          "data": {
            "text/plain": [
              "<seaborn.axisgrid.FacetGrid at 0x2742f564eb0>"
            ]
          },
          "execution_count": 113,
          "metadata": {},
          "output_type": "execute_result"
        },
        {
          "data": {
            "image/png": "[encoded data removed]",
            "text/plain": [
              "<Figure size 500x500 with 1 Axes>"
            ]
          },
          "metadata": {},
          "output_type": "display_data"
        },
        {
          "data": {
            "image/png": "[encoded data removed]",
            "text/plain": [
              "<Figure size 500x500 with 1 Axes>"
            ]
          },
          "metadata": {},
          "output_type": "display_data"
        }
      ],
      "source": [
        "import seaborn as sns\n",
        "sns.lmplot(x='season', y='result', data=df)\n",
        "sns.lmplot(x='day', y='result', data=df)"
      ]
    },
    {
      "cell_type": "code",
      "execution_count": 114,
      "metadata": {
        "colab": {
          "base_uri": "https://localhost:8080/",
          "height": 431
        },
        "id": "wZVrm03vw6V9",
        "outputId": "31547ddd-2645-4930-8976-ba0b3651c7c7"
      },
      "outputs": [
        {
          "data": {
            "image/png": "[encoded data removed]",
            "text/plain": [
              "<Figure size 500x500 with 2 Axes>"
            ]
          },
          "metadata": {},
          "output_type": "display_data"
        }
      ],
      "source": [
        "import seaborn as sns\n",
        "x,y=plt.subplots(figsize=(5,5))\n",
        "sns.heatmap(df.corr(),cmap='YlGnBu',square=True)\n",
        "plt.show()"
      ]
    },
    {
      "cell_type": "code",
      "execution_count": 115,
      "metadata": {
        "id": "gnRztf9M7LN9"
      },
      "outputs": [],
      "source": [
        "# !pip install pycaret"
      ]
    },
    {
      "cell_type": "code",
      "execution_count": 116,
      "metadata": {
        "id": "_lTdVeBWxmZ1"
      },
      "outputs": [],
      "source": [
        "from pycaret.classification import *"
      ]
    },
    {
      "cell_type": "code",
      "execution_count": 117,
      "metadata": {
        "id": "LaaYetd6yP35"
      },
      "outputs": [
        {
          "data": {
            "text/html": [
              "<style type=\"text/css\">\n",
              "#T_a9f69_row8_col1 {\n",
              "  background-color: lightgreen;\n",
              "}\n",
              "</style>\n",
              "<table id=\"T_a9f69\">\n",
              "  <thead>\n",
              "    <tr>\n",
              "      <th class=\"blank level0\" >&nbsp;</th>\n",
              "      <th id=\"T_a9f69_level0_col0\" class=\"col_heading level0 col0\" >Description</th>\n",
              "      <th id=\"T_a9f69_level0_col1\" class=\"col_heading level0 col1\" >Value</th>\n",
              "    </tr>\n",
              "  </thead>\n",
              "  <tbody>\n",
              "    <tr>\n",
              "      <th id=\"T_a9f69_level0_row0\" class=\"row_heading level0 row0\" >0</th>\n",
              "      <td id=\"T_a9f69_row0_col0\" class=\"data row0 col0\" >Session id</td>\n",
              "      <td id=\"T_a9f69_row0_col1\" class=\"data row0 col1\" >1488</td>\n",
              "    </tr>\n",
              "    <tr>\n",
              "      <th id=\"T_a9f69_level0_row1\" class=\"row_heading level0 row1\" >1</th>\n",
              "      <td id=\"T_a9f69_row1_col0\" class=\"data row1 col0\" >Target</td>\n",
              "      <td id=\"T_a9f69_row1_col1\" class=\"data row1 col1\" >result</td>\n",
              "    </tr>\n",
              "    <tr>\n",
              "      <th id=\"T_a9f69_level0_row2\" class=\"row_heading level0 row2\" >2</th>\n",
              "      <td id=\"T_a9f69_row2_col0\" class=\"data row2 col0\" >Target type</td>\n",
              "      <td id=\"T_a9f69_row2_col1\" class=\"data row2 col1\" >Multiclass</td>\n",
              "    </tr>\n",
              "    <tr>\n",
              "      <th id=\"T_a9f69_level0_row3\" class=\"row_heading level0 row3\" >3</th>\n",
              "      <td id=\"T_a9f69_row3_col0\" class=\"data row3 col0\" >Original data shape</td>\n",
              "      <td id=\"T_a9f69_row3_col1\" class=\"data row3 col1\" >(48032, 5)</td>\n",
              "    </tr>\n",
              "    <tr>\n",
              "      <th id=\"T_a9f69_level0_row4\" class=\"row_heading level0 row4\" >4</th>\n",
              "      <td id=\"T_a9f69_row4_col0\" class=\"data row4 col0\" >Transformed data shape</td>\n",
              "      <td id=\"T_a9f69_row4_col1\" class=\"data row4 col1\" >(48032, 5)</td>\n",
              "    </tr>\n",
              "    <tr>\n",
              "      <th id=\"T_a9f69_level0_row5\" class=\"row_heading level0 row5\" >5</th>\n",
              "      <td id=\"T_a9f69_row5_col0\" class=\"data row5 col0\" >Transformed train set shape</td>\n",
              "      <td id=\"T_a9f69_row5_col1\" class=\"data row5 col1\" >(33622, 5)</td>\n",
              "    </tr>\n",
              "    <tr>\n",
              "      <th id=\"T_a9f69_level0_row6\" class=\"row_heading level0 row6\" >6</th>\n",
              "      <td id=\"T_a9f69_row6_col0\" class=\"data row6 col0\" >Transformed test set shape</td>\n",
              "      <td id=\"T_a9f69_row6_col1\" class=\"data row6 col1\" >(14410, 5)</td>\n",
              "    </tr>\n",
              "    <tr>\n",
              "      <th id=\"T_a9f69_level0_row7\" class=\"row_heading level0 row7\" >7</th>\n",
              "      <td id=\"T_a9f69_row7_col0\" class=\"data row7 col0\" >Numeric features</td>\n",
              "      <td id=\"T_a9f69_row7_col1\" class=\"data row7 col1\" >4</td>\n",
              "    </tr>\n",
              "    <tr>\n",
              "      <th id=\"T_a9f69_level0_row8\" class=\"row_heading level0 row8\" >8</th>\n",
              "      <td id=\"T_a9f69_row8_col0\" class=\"data row8 col0\" >Preprocess</td>\n",
              "      <td id=\"T_a9f69_row8_col1\" class=\"data row8 col1\" >True</td>\n",
              "    </tr>\n",
              "    <tr>\n",
              "      <th id=\"T_a9f69_level0_row9\" class=\"row_heading level0 row9\" >9</th>\n",
              "      <td id=\"T_a9f69_row9_col0\" class=\"data row9 col0\" >Imputation type</td>\n",
              "      <td id=\"T_a9f69_row9_col1\" class=\"data row9 col1\" >simple</td>\n",
              "    </tr>\n",
              "    <tr>\n",
              "      <th id=\"T_a9f69_level0_row10\" class=\"row_heading level0 row10\" >10</th>\n",
              "      <td id=\"T_a9f69_row10_col0\" class=\"data row10 col0\" >Numeric imputation</td>\n",
              "      <td id=\"T_a9f69_row10_col1\" class=\"data row10 col1\" >mean</td>\n",
              "    </tr>\n",
              "    <tr>\n",
              "      <th id=\"T_a9f69_level0_row11\" class=\"row_heading level0 row11\" >11</th>\n",
              "      <td id=\"T_a9f69_row11_col0\" class=\"data row11 col0\" >Categorical imputation</td>\n",
              "      <td id=\"T_a9f69_row11_col1\" class=\"data row11 col1\" >mode</td>\n",
              "    </tr>\n",
              "    <tr>\n",
              "      <th id=\"T_a9f69_level0_row12\" class=\"row_heading level0 row12\" >12</th>\n",
              "      <td id=\"T_a9f69_row12_col0\" class=\"data row12 col0\" >Fold Generator</td>\n",
              "      <td id=\"T_a9f69_row12_col1\" class=\"data row12 col1\" >StratifiedKFold</td>\n",
              "    </tr>\n",
              "    <tr>\n",
              "      <th id=\"T_a9f69_level0_row13\" class=\"row_heading level0 row13\" >13</th>\n",
              "      <td id=\"T_a9f69_row13_col0\" class=\"data row13 col0\" >Fold Number</td>\n",
              "      <td id=\"T_a9f69_row13_col1\" class=\"data row13 col1\" >10</td>\n",
              "    </tr>\n",
              "    <tr>\n",
              "      <th id=\"T_a9f69_level0_row14\" class=\"row_heading level0 row14\" >14</th>\n",
              "      <td id=\"T_a9f69_row14_col0\" class=\"data row14 col0\" >CPU Jobs</td>\n",
              "      <td id=\"T_a9f69_row14_col1\" class=\"data row14 col1\" >-1</td>\n",
              "    </tr>\n",
              "    <tr>\n",
              "      <th id=\"T_a9f69_level0_row15\" class=\"row_heading level0 row15\" >15</th>\n",
              "      <td id=\"T_a9f69_row15_col0\" class=\"data row15 col0\" >Use GPU</td>\n",
              "      <td id=\"T_a9f69_row15_col1\" class=\"data row15 col1\" >False</td>\n",
              "    </tr>\n",
              "    <tr>\n",
              "      <th id=\"T_a9f69_level0_row16\" class=\"row_heading level0 row16\" >16</th>\n",
              "      <td id=\"T_a9f69_row16_col0\" class=\"data row16 col0\" >Log Experiment</td>\n",
              "      <td id=\"T_a9f69_row16_col1\" class=\"data row16 col1\" >False</td>\n",
              "    </tr>\n",
              "    <tr>\n",
              "      <th id=\"T_a9f69_level0_row17\" class=\"row_heading level0 row17\" >17</th>\n",
              "      <td id=\"T_a9f69_row17_col0\" class=\"data row17 col0\" >Experiment Name</td>\n",
              "      <td id=\"T_a9f69_row17_col1\" class=\"data row17 col1\" >clf-default-name</td>\n",
              "    </tr>\n",
              "    <tr>\n",
              "      <th id=\"T_a9f69_level0_row18\" class=\"row_heading level0 row18\" >18</th>\n",
              "      <td id=\"T_a9f69_row18_col0\" class=\"data row18 col0\" >USI</td>\n",
              "      <td id=\"T_a9f69_row18_col1\" class=\"data row18 col1\" >5a47</td>\n",
              "    </tr>\n",
              "  </tbody>\n",
              "</table>\n"
            ],
            "text/plain": [
              "<pandas.io.formats.style.Styler at 0x2742fdb1640>"
            ]
          },
          "metadata": {},
          "output_type": "display_data"
        }
      ],
      "source": [
        "s=setup(df,target='result')"
      ]
    },
    {
      "cell_type": "markdown",
      "metadata": {
        "id": "20qn-I3KxT79"
      },
      "source": [
        "#Features-Label-Split"
      ]
    },
    {
      "cell_type": "code",
      "execution_count": 118,
      "metadata": {
        "id": "xM9dQ_EM8lYy"
      },
      "outputs": [],
      "source": [
        "# df.to_csv('cleanedData.csv')\n",
        "# df=pd.read_csv('cleanedData.csv')"
      ]
    },
    {
      "cell_type": "code",
      "execution_count": 119,
      "metadata": {
        "id": "lWWVKK-Byn5p"
      },
      "outputs": [
        {
          "data": {
            "text/html": [
              "<div>\n",
              "<style scoped>\n",
              "    .dataframe tbody tr th:only-of-type {\n",
              "        vertical-align: middle;\n",
              "    }\n",
              "\n",
              "    .dataframe tbody tr th {\n",
              "        vertical-align: top;\n",
              "    }\n",
              "\n",
              "    .dataframe thead th {\n",
              "        text-align: right;\n",
              "    }\n",
              "</style>\n",
              "<table border=\"1\" class=\"dataframe\">\n",
              "  <thead>\n",
              "    <tr style=\"text-align: right;\">\n",
              "      <th></th>\n",
              "      <th></th>\n",
              "      <th></th>\n",
              "    </tr>\n",
              "    <tr>\n",
              "      <th></th>\n",
              "      <th></th>\n",
              "      <th></th>\n",
              "    </tr>\n",
              "  </thead>\n",
              "  <tbody>\n",
              "    <tr>\n",
              "      <th>Initiated</th>\n",
              "      <td>. . . . . . . . . . . . . . . . . .</td>\n",
              "      <td>18:20:03</td>\n",
              "    </tr>\n",
              "    <tr>\n",
              "      <th>Status</th>\n",
              "      <td>. . . . . . . . . . . . . . . . . .</td>\n",
              "      <td>Loading Dependencies</td>\n",
              "    </tr>\n",
              "    <tr>\n",
              "      <th>Estimator</th>\n",
              "      <td>. . . . . . . . . . . . . . . . . .</td>\n",
              "      <td>Compiling Library</td>\n",
              "    </tr>\n",
              "  </tbody>\n",
              "</table>\n",
              "</div>"
            ],
            "text/plain": [
              "                                                                    \n",
              "                                                                    \n",
              "Initiated  . . . . . . . . . . . . . . . . . .              18:20:03\n",
              "Status     . . . . . . . . . . . . . . . . . .  Loading Dependencies\n",
              "Estimator  . . . . . . . . . . . . . . . . . .     Compiling Library"
            ]
          },
          "metadata": {},
          "output_type": "display_data"
        },
        {
          "data": {
            "text/html": [],
            "text/plain": [
              "<IPython.core.display.HTML object>"
            ]
          },
          "metadata": {},
          "output_type": "display_data"
        },
        {
          "data": {
            "application/vnd.jupyter.widget-view+json": {
              "model_id": "11d9820e8b8349948f0a6edd4fc41dfc",
              "version_major": 2,
              "version_minor": 0
            },
            "text/plain": [
              "Processing:   0%|          | 0/65 [00:00<?, ?it/s]"
            ]
          },
          "metadata": {},
          "output_type": "display_data"
        }
      ],
      "source": [
        "best_model=compare_models()"
      ]
    },
    {
      "cell_type": "code",
      "execution_count": 120,
      "metadata": {
        "colab": {
          "base_uri": "https://localhost:8080/",
          "height": 206
        },
        "id": "F3T2aD5BxLej",
        "outputId": "881a6c4d-e176-4dda-945b-ef3c95614ca7"
      },
      "outputs": [
        {
          "data": {
            "text/html": [
              "<div>\n",
              "<style scoped>\n",
              "    .dataframe tbody tr th:only-of-type {\n",
              "        vertical-align: middle;\n",
              "    }\n",
              "\n",
              "    .dataframe tbody tr th {\n",
              "        vertical-align: top;\n",
              "    }\n",
              "\n",
              "    .dataframe thead th {\n",
              "        text-align: right;\n",
              "    }\n",
              "</style>\n",
              "<table border=\"1\" class=\"dataframe\">\n",
              "  <thead>\n",
              "    <tr style=\"text-align: right;\">\n",
              "      <th></th>\n",
              "      <th>stationName</th>\n",
              "      <th>day</th>\n",
              "      <th>season</th>\n",
              "      <th>hour</th>\n",
              "    </tr>\n",
              "  </thead>\n",
              "  <tbody>\n",
              "    <tr>\n",
              "      <th>0</th>\n",
              "      <td>66</td>\n",
              "      <td>2</td>\n",
              "      <td>0</td>\n",
              "      <td>4</td>\n",
              "    </tr>\n",
              "    <tr>\n",
              "      <th>1</th>\n",
              "      <td>66</td>\n",
              "      <td>2</td>\n",
              "      <td>1</td>\n",
              "      <td>4</td>\n",
              "    </tr>\n",
              "    <tr>\n",
              "      <th>2</th>\n",
              "      <td>66</td>\n",
              "      <td>2</td>\n",
              "      <td>2</td>\n",
              "      <td>4</td>\n",
              "    </tr>\n",
              "    <tr>\n",
              "      <th>3</th>\n",
              "      <td>66</td>\n",
              "      <td>2</td>\n",
              "      <td>3</td>\n",
              "      <td>4</td>\n",
              "    </tr>\n",
              "    <tr>\n",
              "      <th>4</th>\n",
              "      <td>66</td>\n",
              "      <td>2</td>\n",
              "      <td>0</td>\n",
              "      <td>5</td>\n",
              "    </tr>\n",
              "  </tbody>\n",
              "</table>\n",
              "</div>"
            ],
            "text/plain": [
              "   stationName  day  season  hour\n",
              "0           66    2       0     4\n",
              "1           66    2       1     4\n",
              "2           66    2       2     4\n",
              "3           66    2       3     4\n",
              "4           66    2       0     5"
            ]
          },
          "execution_count": 120,
          "metadata": {},
          "output_type": "execute_result"
        }
      ],
      "source": [
        "data=df.drop(labels=['result'],axis=1)\n",
        "target=df['result']\n",
        "data.head()"
      ]
    },
    {
      "cell_type": "code",
      "execution_count": 121,
      "metadata": {
        "colab": {
          "base_uri": "https://localhost:8080/"
        },
        "id": "42AKdnhexezo",
        "outputId": "0f9832fc-c5f3-44e8-ff57-f783ebeb01c9"
      },
      "outputs": [
        {
          "data": {
            "text/plain": [
              "(48032,)"
            ]
          },
          "execution_count": 121,
          "metadata": {},
          "output_type": "execute_result"
        }
      ],
      "source": [
        "target.shape"
      ]
    },
    {
      "cell_type": "code",
      "execution_count": 122,
      "metadata": {
        "colab": {
          "base_uri": "https://localhost:8080/"
        },
        "id": "BiU530r8JJq8",
        "outputId": "af1b9af7-c7b3-4721-b211-2a999a5e4c32"
      },
      "outputs": [
        {
          "data": {
            "text/plain": [
              "(48032, 4)"
            ]
          },
          "execution_count": 122,
          "metadata": {},
          "output_type": "execute_result"
        }
      ],
      "source": [
        "data.shape"
      ]
    },
    {
      "cell_type": "markdown",
      "metadata": {
        "id": "D2f0FezNfuQy"
      },
      "source": [
        "#Train-Test-split"
      ]
    },
    {
      "cell_type": "code",
      "execution_count": 123,
      "metadata": {
        "colab": {
          "base_uri": "https://localhost:8080/"
        },
        "id": "fr1bif1B1kol",
        "outputId": "22fbdf96-015d-41f4-bd0f-838a3e602032"
      },
      "outputs": [
        {
          "name": "stdout",
          "output_type": "stream",
          "text": [
            "(38425, 4)\n",
            "(9607, 4)\n",
            "(38425,)\n",
            "(9607,)\n"
          ]
        }
      ],
      "source": [
        "from sklearn.model_selection import train_test_split\n",
        "x_train,x_test,y_train,y_test=train_test_split(data,target,test_size=0.2,random_state=0,shuffle=True)\n",
        "print(x_train.shape)\n",
        "print(x_test.shape)\n",
        "print(y_train.shape)\n",
        "print(y_test.shape)"
      ]
    },
    {
      "cell_type": "markdown",
      "metadata": {
        "id": "4tyNqUf-xwej"
      },
      "source": [
        "#model"
      ]
    },
    {
      "cell_type": "code",
      "execution_count": 124,
      "metadata": {
        "colab": {
          "base_uri": "https://localhost:8080/"
        },
        "id": "9NW0nj_6z5K5",
        "outputId": "2b111911-e3a1-4095-e7ca-6403ff5600d2"
      },
      "outputs": [
        {
          "name": "stdout",
          "output_type": "stream",
          "text": [
            "[0 0 1 ... 0 0 1]\n"
          ]
        }
      ],
      "source": [
        "from xgboost import XGBClassifier\n",
        "model = XGBClassifier().fit(x_train,y_train)\n",
        "y_pred = model.predict(x_test)\n",
        "print(y_pred)"
      ]
    },
    {
      "cell_type": "markdown",
      "metadata": {
        "id": "WDEGo3Y7FRdZ"
      },
      "source": [
        "#Evaluate-Model \n",
        "Confusion_Matrix"
      ]
    },
    {
      "cell_type": "code",
      "execution_count": 125,
      "metadata": {
        "colab": {
          "base_uri": "https://localhost:8080/",
          "height": 514
        },
        "id": "ZLe8PMv98tci",
        "outputId": "ca1f5ef8-ed47-4ae8-e28b-908acad6f201"
      },
      "outputs": [
        {
          "name": "stdout",
          "output_type": "stream",
          "text": [
            "confusion matrix \n",
            " [[3488  175   10]\n",
            " [ 116 1749  381]\n",
            " [   6  211 3471]]\n"
          ]
        },
        {
          "data": {
            "image/png": "[encoded data removed]",
            "text/plain": [
              "<Figure size 500x500 with 2 Axes>"
            ]
          },
          "metadata": {},
          "output_type": "display_data"
        }
      ],
      "source": [
        "from sklearn.metrics import  confusion_matrix\n",
        "plt.subplots(figsize=(5,5))\n",
        "cm = confusion_matrix(y_test , y_pred)\n",
        "print('confusion matrix \\n',  cm)\n",
        "sns.heatmap(cm, center=True)\n",
        "plt.show()"
      ]
    },
    {
      "cell_type": "markdown",
      "metadata": {
        "id": "4Rohnu-adSgk"
      },
      "source": [
        "Accuracy"
      ]
    },
    {
      "cell_type": "code",
      "execution_count": 126,
      "metadata": {
        "colab": {
          "base_uri": "https://localhost:8080/"
        },
        "id": "K94cSqkb184R",
        "outputId": "d367eae5-fccc-41b5-d53a-fc73aadc80d3"
      },
      "outputs": [
        {
          "name": "stdout",
          "output_type": "stream",
          "text": [
            " Train Score is :  0.9356668835393624\n",
            " Test Score is :  0.9064224003330904\n"
          ]
        }
      ],
      "source": [
        "print(' Train Score is : ' , model.score(x_train, y_train))\n",
        "print(' Test Score is : ' , model.score(x_test, y_test))"
      ]
    },
    {
      "cell_type": "markdown",
      "metadata": {
        "id": "HSDbiFEudchD"
      },
      "source": [
        "Percision-Recall-F1_score"
      ]
    },
    {
      "cell_type": "code",
      "execution_count": 127,
      "metadata": {
        "colab": {
          "base_uri": "https://localhost:8080/"
        },
        "id": "YSe-wjucxCD5",
        "outputId": "be7094ce-6fa4-4e7e-c946-c64056727f90"
      },
      "outputs": [
        {
          "name": "stdout",
          "output_type": "stream",
          "text": [
            "Precision:  0.9064224003330904\n",
            "Recall:  0.9064224003330904\n",
            "f1_score:  0.9064224003330904\n"
          ]
        }
      ],
      "source": [
        "from sklearn.metrics import precision_score\n",
        "from sklearn.metrics import recall_score,f1_score\n",
        "\n",
        "print('Precision: ',precision_score(y_test, y_pred, average='micro'))\n",
        "print('Recall: ',recall_score(y_test, y_pred, average='micro'))\n",
        "print('f1_score: ',f1_score(y_test, y_pred, average='micro'))"
      ]
    },
    {
      "cell_type": "code",
      "execution_count": 128,
      "metadata": {},
      "outputs": [],
      "source": [
        "import pickle\n",
        "pickle_out=open('classifier.dat','wb')\n",
        "pickle.dump(model,pickle_out)\n",
        "pickle_out.close()\n"
      ]
    },
    {
      "cell_type": "code",
      "execution_count": 129,
      "metadata": {},
      "outputs": [
        {
          "data": {
            "text/plain": [
              "array([0], dtype=int64)"
            ]
          },
          "execution_count": 129,
          "metadata": {},
          "output_type": "execute_result"
        }
      ],
      "source": [
        "import numpy as np\n",
        "model.predict(np.array([[66,2,0,4]]))"
      ]
    }
  ],
  "metadata": {
    "colab": {
      "provenance": []
    },
    "kernelspec": {
      "display_name": "Python 3",
      "name": "python3"
    },
    "language_info": {
      "codemirror_mode": {
        "name": "ipython",
        "version": 3
      },
      "file_extension": ".py",
      "mimetype": "text/x-python",
      "name": "python",
      "nbconvert_exporter": "python",
      "pygments_lexer": "ipython3",
      "version": "3.9.4"
    }
  },
  "nbformat": 4,
  "nbformat_minor": 0
}
